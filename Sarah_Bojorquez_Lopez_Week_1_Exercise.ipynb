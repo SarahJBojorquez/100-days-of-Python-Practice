{
  "nbformat": 4,
  "nbformat_minor": 0,
  "metadata": {
    "colab": {
      "provenance": [],
      "include_colab_link": true
    },
    "kernelspec": {
      "name": "python3",
      "display_name": "Python 3"
    },
    "language_info": {
      "name": "python"
    }
  },
  "cells": [
    {
      "cell_type": "markdown",
      "metadata": {
        "id": "view-in-github",
        "colab_type": "text"
      },
      "source": [
        "<a href=\"https://colab.research.google.com/github/SarahJBojorquez/100-days-of-Python-Practice/blob/main/Sarah_Bojorquez_Lopez_Week_1_Exercise.ipynb\" target=\"_parent\"><img src=\"https://colab.research.google.com/assets/colab-badge.svg\" alt=\"Open In Colab\"/></a>"
      ]
    },
    {
      "cell_type": "markdown",
      "source": [
        "# Week 1 Exercise\n",
        "\n",
        "Triangles can be classified based on their angles.\n",
        "\n",
        "* A right triangle has one angle of 90 degrees\n",
        "* A obtuse triangle has one angle of more than 90 degrees\n",
        "* A triangle is acute if all three angles are less than 90 degrees:> [!WARNING]\n",
        "\n",
        "Write a program that asks the user for the values of three angles in degrees. First check if the entered values are valid. The values are only valid if they are >0 and if their sum is 180 degrees. If the entered values are valid, classify the triangle as right, acute or obtuse.\n",
        "\n",
        "Below are two example executions of the program with invalid values:\n",
        "\n",
        "\n",
        "\n",
        "```\n",
        "Please enter the first angle: 60\n",
        "Please enter the second angle: 60\n",
        "Please enter the third angle: 100\n",
        "The entered values are not valid.\n",
        "\n",
        "Please enter the first angle: 200\n",
        "Please enter the second angle: -10\n",
        "Please enter the third angle: -10\n",
        "Angles smaller than 0 are not valid.\n",
        "```\n",
        "\n",
        "Here is another example execution of the program:\n",
        "\n",
        "```\n",
        "Please enter the first angle: 60\n",
        "Please enter the second angle: 30\n",
        "Please enter the third angle: 90\n",
        "The triangle is a right triangle.\n",
        "```\n",
        "\n"
      ],
      "metadata": {
        "id": "qRWDWXErsVY5"
      }
    },
    {
      "cell_type": "code",
      "execution_count": 6,
      "metadata": {
        "id": "HeyZxT1ksTMA",
        "colab": {
          "base_uri": "https://localhost:8080/"
        },
        "outputId": "0060e833-dbb7-4864-9b44-d6964dee2f5c"
      },
      "outputs": [
        {
          "output_type": "stream",
          "name": "stdout",
          "text": [
            "Enter the first angle: 10\n",
            "Enter the second angle: 10\n",
            "Enter the third angle: 10\n",
            "Angles smaller than 0 are not valid\n"
          ]
        }
      ],
      "source": [
        "def classify(first : int, second : int, third : int) -> int:\n",
        "  classification = \"unknown\"\n",
        "\n",
        "  # add your code here\n",
        "def classify(first : int, second : int, third : int) -> int:\n",
        "  classification = \"unknown\"\n",
        "\n",
        "  # add your code here\n",
        "angle1 = float(input(\"Enter the first angle: \"))\n",
        "angle2 = float(input(\"Enter the second angle: \"))\n",
        "angle3 = float(input(\"Enter the third angle: \"))\n",
        "\n",
        "if angle1 + angle2 + angle3 != 180 or angle1 <= 0 or angle2 <= 0 or angle3 <= 0:\n",
        "  print(\"Angles smaller than 0 are not valid\")\n",
        "else:\n",
        "  # Indent the following block to be part of the 'else' block\n",
        "  if angle1 == 90 or angle2 == 90 or angle3 == 90:\n",
        "    print(\"The triangle is a Right Triangle.\")\n",
        "  elif angle1 > 90 or angle2 > 90 or angle3 > 90:\n",
        "    print(\"The triangle is an Obtuse Triangle.\")\n",
        "  else: #Removed extra elif and changed to else\n",
        "    print(\"The triangle is an Acute Triangle.\")\n",
        "\n"
      ]
    },
    {
      "cell_type": "markdown",
      "source": [
        "The following code block can be used to test your code."
      ],
      "metadata": {
        "id": "OkWJOBNftSmC"
      }
    },
    {
      "cell_type": "code",
      "source": [
        "import unittest\n",
        "\n",
        "class TestExercise(unittest.TestCase):\n",
        "\n",
        "  def test_invalid_values(self):\n",
        "    assert classify(60,60,90) == \"The entered values are not valid.\"\n",
        "\n",
        "  def test_less_than_zero(self):\n",
        "    assert classify(200,-10,-10) == \"Angles smaller than 0 are not valid.\"\n",
        "\n",
        "  def test_right_triangle(self):\n",
        "    assert classify(60,30,90) == \"The triangle is a right triangle.\"\n",
        "\n",
        "if __name__ == '__main__':\n",
        "    unittest.main(argv=['first-arg-is-ignored'], exit=False)\n"
      ],
      "metadata": {
        "colab": {
          "base_uri": "https://localhost:8080/"
        },
        "id": "D_AVG0fDtWS5",
        "outputId": "4f4d629a-c5d5-4693-87dc-24f27edc9250"
      },
      "execution_count": 7,
      "outputs": [
        {
          "output_type": "stream",
          "name": "stderr",
          "text": [
            "FFF\n",
            "======================================================================\n",
            "FAIL: test_invalid_values (__main__.TestExercise)\n",
            "----------------------------------------------------------------------\n",
            "Traceback (most recent call last):\n",
            "  File \"<ipython-input-7-3f6d061aaefd>\", line 6, in test_invalid_values\n",
            "    assert classify(60,60,90) == \"The entered values are not valid.\"\n",
            "AssertionError\n",
            "\n",
            "======================================================================\n",
            "FAIL: test_less_than_zero (__main__.TestExercise)\n",
            "----------------------------------------------------------------------\n",
            "Traceback (most recent call last):\n",
            "  File \"<ipython-input-7-3f6d061aaefd>\", line 9, in test_less_than_zero\n",
            "    assert classify(200,-10,-10) == \"Angles smaller than 0 are not valid.\"\n",
            "AssertionError\n",
            "\n",
            "======================================================================\n",
            "FAIL: test_right_triangle (__main__.TestExercise)\n",
            "----------------------------------------------------------------------\n",
            "Traceback (most recent call last):\n",
            "  File \"<ipython-input-7-3f6d061aaefd>\", line 12, in test_right_triangle\n",
            "    assert classify(60,30,90) == \"The triangle is a right triangle.\"\n",
            "AssertionError\n",
            "\n",
            "----------------------------------------------------------------------\n",
            "Ran 3 tests in 0.008s\n",
            "\n",
            "FAILED (failures=3)\n"
          ]
        }
      ]
    }
  ]
}