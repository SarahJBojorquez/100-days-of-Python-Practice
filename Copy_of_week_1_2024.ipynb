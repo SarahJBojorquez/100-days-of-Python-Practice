{
  "nbformat": 4,
  "nbformat_minor": 0,
  "metadata": {
    "colab": {
      "provenance": [],
      "include_colab_link": true
    },
    "kernelspec": {
      "name": "python3",
      "display_name": "Python 3"
    },
    "language_info": {
      "name": "python"
    }
  },
  "cells": [
    {
      "cell_type": "markdown",
      "metadata": {
        "id": "view-in-github",
        "colab_type": "text"
      },
      "source": [
        "<a href=\"https://colab.research.google.com/github/SarahJBojorquez/100-days-of-Python-Practice/blob/main/Copy_of_week_1_2024.ipynb\" target=\"_parent\"><img src=\"https://colab.research.google.com/assets/colab-badge.svg\" alt=\"Open In Colab\"/></a>"
      ]
    },
    {
      "cell_type": "markdown",
      "source": [
        "# Agenda week 1\n",
        "- Introductions\n",
        "- Questions\n",
        "- Overview of:\n",
        "    - packages\n",
        "    - variables\n",
        "    - data types\n",
        "    - conditionals\n",
        "\n",
        "\n",
        "---"
      ],
      "metadata": {
        "id": "AgmRtInoS0VU"
      }
    },
    {
      "cell_type": "markdown",
      "source": [
        "### Package Examples:\n",
        "\n",
        "#### **random – Random Numbers and Choices**\n",
        "\n",
        "- random is a built-in Python module that generates random numbers or selects random items from lists. It’s very useful for simulations and testing.\n",
        "\n",
        "#### **pandas – Data Manipulation**\n",
        "\n",
        "- pandas is a must-have library for working with structured data, such as spreadsheets, databases, and CSV files. It provides DataFrame objects for easy manipulation of tabular data."
      ],
      "metadata": {
        "id": "Xj2RVJDrUaEa"
      }
    },
    {
      "cell_type": "code",
      "source": [
        "import random\n",
        "\n",
        "# Generate a random number between 1 and 10\n",
        "random_number = random.randint(1, 10)\n",
        "print(random_number)\n",
        "\n",
        "# Select a random item from a list\n",
        "fruits = ['apple', 'banana', 'cherry', 'date']\n",
        "random_fruit = random.choice(fruits)\n",
        "print(random_fruit)"
      ],
      "metadata": {
        "colab": {
          "base_uri": "https://localhost:8080/"
        },
        "id": "qkoYISz6x2l0",
        "outputId": "8e19cb59-53df-4220-e27d-773cb1064a4e"
      },
      "execution_count": null,
      "outputs": [
        {
          "output_type": "stream",
          "name": "stdout",
          "text": [
            "1\n",
            "apple\n"
          ]
        }
      ]
    },
    {
      "cell_type": "code",
      "source": [
        "import pandas as pd\n",
        "\n",
        "# Creating a DataFrame\n",
        "data = {'Name': ['Alice', 'Bob', 'Charlie'], 'Age': [25, 30, 35]}\n",
        "df = pd.DataFrame(data)\n",
        "\n",
        "# Display the DataFrame\n",
        "print(df)\n",
        "\n",
        "# Calculate the average age\n",
        "print(df['Age'].mean())"
      ],
      "metadata": {
        "colab": {
          "base_uri": "https://localhost:8080/"
        },
        "id": "ETphTxXwyCUf",
        "outputId": "75a21989-e80a-46c2-85cb-ef1aa01346cf"
      },
      "execution_count": null,
      "outputs": [
        {
          "output_type": "stream",
          "name": "stdout",
          "text": [
            "      Name  Age\n",
            "0    Alice   25\n",
            "1      Bob   30\n",
            "2  Charlie   35\n",
            "30.0\n"
          ]
        }
      ]
    },
    {
      "cell_type": "markdown",
      "source": [
        "## Variables and Data Types\n",
        "\n",
        "| Example\t| Data Type\t|\n",
        "| --- | ---|\n",
        "| x = \"Hello World\"\t| str |\n",
        "| x = 20\t| int |\n",
        "| x = 20.5 | float |\n",
        "| x = [\"apple\", \"banana\", \"cherry\"] | list |\n",
        "| x = (\"apple\", \"banana\", \"cherry\") | tuple |\n",
        "| x = range(6) | range |\n",
        "| x = {\"name\" : \"John\", \"age\" : 36} | dict |\n",
        "| x = True | bool |"
      ],
      "metadata": {
        "id": "hcDEstH_QuKO"
      }
    },
    {
      "cell_type": "markdown",
      "source": [
        "1. Explore variables and how to assign them.\n",
        "1. Assign data types\n",
        "1. List appending vs inserting"
      ],
      "metadata": {
        "id": "8t1842yQRjQE"
      }
    },
    {
      "cell_type": "code",
      "source": [
        "# assign a number to \"a\"\n",
        "a = 10\n",
        "\n",
        "# use the type function to see what it was assigned\n",
        "a = int(a)\n",
        "type(a)\n",
        "\n",
        "# define the data type\n",
        "a = str(a)\n",
        "type(a)\n",
        "a\n",
        "# print the type\n",
        "\n"
      ],
      "metadata": {
        "id": "9un6RODKRIeJ",
        "colab": {
          "base_uri": "https://localhost:8080/",
          "height": 37
        },
        "outputId": "55a85d62-89df-497b-b86f-413be8f7da7a"
      },
      "execution_count": null,
      "outputs": [
        {
          "output_type": "execute_result",
          "data": {
            "text/plain": [
              "'10'"
            ],
            "application/vnd.google.colaboratory.intrinsic+json": {
              "type": "string"
            }
          },
          "metadata": {},
          "execution_count": 11
        }
      ]
    },
    {
      "cell_type": "markdown",
      "source": [
        "Exploring lists"
      ],
      "metadata": {
        "id": "C5ah5cbIWCni"
      }
    },
    {
      "cell_type": "code",
      "source": [
        "my_list = [1,2,3,4,5]\n",
        "\n",
        "# \"append\" a number to my_list\n",
        "my_list.append(6)\n",
        "print(my_list)\n",
        "# \"insert\" a number into 3rd position\n",
        "my_list.insert(2,9)\n",
        "print(my_list)"
      ],
      "metadata": {
        "id": "d9geneU1WA3L",
        "colab": {
          "base_uri": "https://localhost:8080/"
        },
        "outputId": "f269959e-7aed-480a-a7f4-2fda82e76320"
      },
      "execution_count": 4,
      "outputs": [
        {
          "output_type": "stream",
          "name": "stdout",
          "text": [
            "[1, 2, 3, 4, 5, 6]\n",
            "[1, 2, 9, 3, 4, 5, 6]\n"
          ]
        }
      ]
    },
    {
      "cell_type": "markdown",
      "source": [
        "## Conditionals\n",
        "\n",
        "| Conditional | Example |\n",
        "| :--- | --- |\n",
        "|Equals: | a == b |\n",
        "|Not Equals: | a != b |\n",
        "|Less than: | a < b |\n",
        "|Less than or equal to: | a <= b |\n",
        "|Greater than: | a > b |\n",
        "|Greater than or equal to: | a >= b |\n",
        "| if Statement | if x > y: print(\"x is greater than y\") |"
      ],
      "metadata": {
        "id": "s-add0B0Qwvp"
      }
    },
    {
      "cell_type": "markdown",
      "source": [
        "- assign variables x and y\n",
        "- if greater than\n"
      ],
      "metadata": {
        "id": "Khrb-c-iXcm8"
      }
    },
    {
      "cell_type": "code",
      "source": [
        "x = 9453\n",
        "y = 6261156\n",
        "\n",
        "if x > y:\n",
        "    if x > y: print(\"x is greater than y\")\n",
        "else:\n",
        "    print(\"x is not greater than y\")"
      ],
      "metadata": {
        "id": "bZ7sNdsuRth4",
        "colab": {
          "base_uri": "https://localhost:8080/"
        },
        "outputId": "86b311d7-b048-4f92-d5bc-9eeadbc591ee"
      },
      "execution_count": 10,
      "outputs": [
        {
          "output_type": "stream",
          "name": "stdout",
          "text": [
            "x is not greater than y\n"
          ]
        }
      ]
    },
    {
      "cell_type": "markdown",
      "source": [
        "- if less than"
      ],
      "metadata": {
        "id": "bTITtTFzYF9R"
      }
    },
    {
      "cell_type": "code",
      "source": [
        "x = 9453\n",
        "y = 6261156\n",
        "\n",
        "if x < y:\n",
        "    print(\"x is not greater than y\")"
      ],
      "metadata": {
        "id": "q-IyKFKxR1vG",
        "colab": {
          "base_uri": "https://localhost:8080/"
        },
        "outputId": "afc018a6-102e-42f4-ebf0-957d75bfeb2e"
      },
      "execution_count": 11,
      "outputs": [
        {
          "output_type": "stream",
          "name": "stdout",
          "text": [
            "x is not greater than y\n"
          ]
        }
      ]
    },
    {
      "cell_type": "markdown",
      "source": [
        "- if equal to"
      ],
      "metadata": {
        "id": "NPLm1cYcYIwg"
      }
    },
    {
      "cell_type": "code",
      "source": [
        "x = 9453\n",
        "y = 6261156\n",
        "\n",
        "if x == y:\n",
        "    print(\"x is equal to y\")\n",
        "else:\n",
        "    print(\"x is not equal to y\")"
      ],
      "metadata": {
        "id": "LYe_WTAvUiM4",
        "colab": {
          "base_uri": "https://localhost:8080/"
        },
        "outputId": "f9e956e4-09e9-4458-9d22-27a616637c55"
      },
      "execution_count": 13,
      "outputs": [
        {
          "output_type": "stream",
          "name": "stdout",
          "text": [
            "x is not equal to y\n"
          ]
        }
      ]
    },
    {
      "cell_type": "code",
      "source": [],
      "metadata": {
        "id": "DIAvt4ZsaU3I"
      },
      "execution_count": null,
      "outputs": []
    },
    {
      "cell_type": "code",
      "source": [
        "#Paper, Rock, Scissors\n",
        "#get random choice\n",
        "import random\n",
        "\n",
        "user_choice = input(\"pick: rock, paper or scissors: \")\n",
        "\n",
        "choices = [\"paper\", \"rock\", \"scissors\"]\n",
        "computer_choice = random.choice(choices)\n",
        "\n",
        "if user_choice == computer_choice:\n",
        "    print(\"it's a tie\")\n",
        "\n",
        "elif user_choice == \"rock\" and computer_choice == \"scissors\":\n",
        "    print(\"you win\")\n",
        "\n",
        "elif user_choice == \"paper\" and computer_choice == \"rock\":\n",
        "    print(\"you win\")\n",
        "\n",
        "elif user_choice == \"scissors\" and computer_choice == \"paper\":\n",
        "    print(\"you win\")\n",
        "\n",
        "else:\n",
        "    print(\"you lose\")\n",
        "print(\"The computer chose\" + \" \" + computer_choice)"
      ],
      "metadata": {
        "id": "YLPcP2ofb2s4"
      },
      "execution_count": null,
      "outputs": []
    },
    {
      "cell_type": "code",
      "source": [],
      "metadata": {
        "id": "EJlz8XAVaaNY"
      },
      "execution_count": null,
      "outputs": []
    },
    {
      "cell_type": "markdown",
      "source": [
        "### Add the above to a function.\n",
        "\n",
        "**What Are Functions in Python?**\n",
        "A function in Python is a reusable block of code that performs a specific task. Functions allow you to break your code into smaller, manageable, and reusable parts. You can pass data (parameters) into a function and receive data back (the return value).\n",
        "\n",
        "**Why Use Functions?**\n",
        "- Code Reusability: Write once, use many times.\n",
        "- Modularity: Break your program into smaller, manageable pieces.\n",
        "- Avoid Redundancy: Avoid duplicating code.\n",
        "- Improved Readability: Makes code easier to read and maintain.\n",
        "\n"
      ],
      "metadata": {
        "id": "j_P5C-u_YKzt"
      }
    },
    {
      "cell_type": "code",
      "source": [
        "x = 3\n",
        "y = 5\n",
        "\n",
        "# make function called compare take in args x and y\n"
      ],
      "metadata": {
        "id": "Wlwba8iLYPcu"
      },
      "execution_count": null,
      "outputs": []
    },
    {
      "cell_type": "markdown",
      "source": [
        "# Notes to study"
      ],
      "metadata": {
        "id": "4grbWxItcLev"
      }
    },
    {
      "cell_type": "markdown",
      "source": [
        "#### 1. if Statement\n",
        "Executes a block of code if the condition is True.\n",
        "\n",
        "Example:\n",
        "```python\n",
        "x = 10\n",
        "if x > 5:\n",
        "    print(\"x is greater than 5\")\n",
        "```\n",
        "\n",
        "#### 2. if-else Statement\n",
        "Executes one block of code if the condition is True, otherwise it executes a different block of code.\n",
        "\n",
        "Example:\n",
        "```python\n",
        "x = 3\n",
        "if x > 5:\n",
        "    print(\"x is greater than 5\")\n",
        "else:\n",
        "    print(\"x is not greater than 5\")\n",
        "```\n",
        "\n",
        "#### 3. if-elif-else Statement\n",
        "Executes different blocks of code based on multiple conditions. If the first condition is False, the elif condition is evaluated. If none of the conditions are True, the else block is executed.\n",
        "\n",
        "Example:\n",
        "``` python\n",
        "x = 7\n",
        "if x > 10:\n",
        "    print(\"x is greater than 10\")\n",
        "elif x > 5:\n",
        "    print(\"x is greater than 5 but less than or equal to 10\")\n",
        "else:\n",
        "    print(\"x is less than or equal to 5\")\n",
        "```\n",
        "\n",
        "#### 4. Nested if Statement\n",
        "You can nest if statements inside other if statements.\n",
        "\n",
        "Example:\n",
        "```python\n",
        "x = 8\n",
        "if x > 5:\n",
        "    if x < 10:\n",
        "        print(\"x is between 5 and 10\")\n",
        "```\n",
        "\n",
        "#### 5. Conditional (Ternary) Expression\n",
        "This is a shorthand for if-else that is written in a single line.\n",
        "\n",
        "Example:\n",
        "```python\n",
        "x = 10\n",
        "result = \"x is greater than 5\" if x > 5 else \"x is not greater than 5\"\n",
        "print(result)\n",
        "```\n",
        "\n",
        "#### 6. and, or, not Logical Operators in Conditionals\n",
        "You can combine multiple conditions using logical operators.\n",
        "\n",
        "and: Returns True if both conditions are True.\n",
        "\n",
        "Example using `and`:\n",
        "```python\n",
        "x = 7\n",
        "if x > 5 and x < 10:\n",
        "    print(\"x is between 5 and 10\")\n",
        "or: Returns True if at least one condition is True.\n",
        "```\n",
        "\n",
        "Example using `or`:\n",
        "```python\n",
        "x = 3\n",
        "if x > 5 or x < 10:\n",
        "    print(\"x is either greater than 5 or less than 10\")\n",
        "not: Reverses the boolean value of a condition.\n",
        "```\n",
        "\n",
        "Example using `not`:\n",
        "```python\n",
        "x = 3\n",
        "if not x > 5:\n",
        "    print(\"x is not greater than 5\")\n",
        "```\n",
        "\n",
        "#### 7. in Keyword in Conditionals\n",
        "You can check if a value exists within a list, string, or other collection types.\n",
        "\n",
        "Example:\n",
        "```python\n",
        "name = \"Alice\"\n",
        "if \"A\" in name:\n",
        "    print(\"The letter 'A' is in the name\")\n",
        "```\n",
        "\n",
        "#### 8. is Keyword in Conditionals\n",
        "Checks if two objects are the same object in memory.\n",
        "\n",
        "Example:\n",
        "```python\n",
        "a = [1, 2, 3]\n",
        "b = a\n",
        "if a is b:\n",
        "    print(\"a and b refer to the same object\")\n",
        "```\n",
        "\n",
        "#### 9. Chained Comparison\n",
        "Python allows chaining multiple comparisons.\n",
        "\n",
        "Example:\n",
        "```python\n",
        "x = 7\n",
        "if 5 < x < 10:\n",
        "    print(\"x is between 5 and 10\")\n",
        "```\n",
        "\n",
        "---\n",
        "### Functions\n",
        "\n",
        "```python\n",
        "x = 3  # Assigns 3 to x\n",
        "y = 5  # Assigns 5 to y\n",
        "\n",
        "# Function to compare two numbers\n",
        "def compare(x, y):\n",
        "    if x > y:  # If x is greater than y\n",
        "        print(f\"{x} is greater than {y}\")  # Prints this message\n",
        "\n",
        "    elif x < y:  # If x is less than y\n",
        "        print(f\"{x} is less than {y}\")  # Prints this message\n",
        "\n",
        "    else:  # If x is neither greater than nor less than y (so x == y)\n",
        "        print(f\"{x} is equal to {y}\")  # Prints this message\n",
        "\n",
        "# Call the compare function with x and y\n",
        "compare(x, y)\n",
        "```\n",
        "#### Breakdown\n",
        "\n",
        "**Variable assignment:**\n",
        "\n",
        "x = 3: Assigns the value 3 to the variable x.\n",
        "y = 5: Assigns the value 5 to the variable y.\n",
        "\n",
        "**Function definition `compare(x, y)`:**\n",
        "\n",
        "- This function takes two arguments: x and y, which are the numbers that will be compared.\n",
        "\n",
        "**Conditional Statements:**\n",
        "\n",
        "- `if x > y`: Checks if x is greater than y.\n",
        "    - If True, it prints \"3 is greater than 5\".\n",
        "    - In this case, this condition is False, so it doesn't execute this block.\n",
        "- `elif x < y`: This checks if x is less than y.\n",
        "    - If True, it prints \"3 is less than 5\".\n",
        "    - In this case, this condition is True, so it executes this block and prints \"3 is less than 5\".\n",
        "- `else`: If neither of the previous conditions are True, it means x and y are equal.\n",
        "    - In that case, it would print \"x is equal to y\".\n",
        "    - This block is skipped since the previous elif condition was True.\n",
        "\n",
        "**Function call `compare(x, y)`:**\n",
        "\n",
        "The function is called with the values of `x` and `y` (i.e., compare(3, 5)). Since 3 is less than 5, the function prints: \"3 is less than 5\".\n",
        "\n",
        "Output:\n",
        "```python\n",
        "3 is less than 5\n",
        "```\n",
        "This is because the second condition x < y is true in this case."
      ],
      "metadata": {
        "id": "I7f5U8-VUjU9"
      }
    },
    {
      "cell_type": "markdown",
      "source": [
        "**Function with Default Parameters:**\n",
        "You can assign default values to parameters. If the user doesn't pass an argument, the function uses the default value.\n",
        "\n",
        "```python\n",
        "\n",
        "def greet(name=\"World\"):\n",
        "    print(f\"Hello, {name}!\")\n",
        "```\n",
        "\n",
        "Calling the function:\n",
        "\n",
        "```python\n",
        "greet()         # Output: Hello, World!\n",
        "greet(\"Alice\")  # Output: Hello, Alice!\n",
        "```\n",
        "\n",
        "**Function with Return Value:**\n",
        "A function can return a value, which you can capture in a variable for later use:\n",
        "\n",
        "```python\n",
        "def square(number):\n",
        "    return number ** 2\n",
        "\n",
        "result = square(4)\n",
        "print(result)  # Output: 16\n",
        "```\n",
        "\n",
        "**Functions Without Parameters:**\n",
        "Not all functions need parameters. Some just perform a task without needing any input.\n",
        "\n",
        "```python\n",
        "def say_hello():\n",
        "    print(\"Hello, World!\")\n",
        "```\n",
        "\n",
        "**Calling the function:**\n",
        "\n",
        "```python\n",
        "say_hello()  # Output: Hello, World!\n",
        "```\n",
        "\n",
        "#### Built-in vs. User-defined Functions\n",
        "**Built-in Functions:**\n",
        "\n",
        " - Functions that come with Python, like print(), len(), type(), sum(), etc.\n",
        "\n",
        "**User-defined Functions:**\n",
        "\n",
        " - Functions that you define using def, like the examples above.\n",
        "\n",
        "**Scope of Variables in Functions**\n",
        "\n",
        "- Variables defined inside a function are local to that function and are not accessible outside of it.\n",
        "\n",
        "```python\n",
        "def my_function():\n",
        "    x = 10  # x is local to this function\n",
        "    print(x)\n",
        "\n",
        "my_function()  # Output: 10\n",
        "print(x)  # Error: x is not defined outside the function\n",
        "```\n",
        "\n",
        "####Summary:\n",
        "- **Function Definition:** Use `def` to define a function.\n",
        "- **Function Parameters:** Functions can take parameters `(inputs)` to work with.\n",
        "- **Return Statement:** Use return to give back a result.\n",
        "- **Reusability:** Functions allow you to reuse code without duplicating it.\n",
        "\n",
        "Functions are an essential part of writing organized, maintainable, and scalable code in Python!"
      ],
      "metadata": {
        "id": "lxsidzhDin4D"
      }
    }
  ]
}